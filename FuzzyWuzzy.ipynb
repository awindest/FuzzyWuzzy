{
 "cells": [
  {
   "cell_type": "code",
   "execution_count": 2,
   "metadata": {},
   "outputs": [
    {
     "name": "stderr",
     "output_type": "stream",
     "text": [
      "/Users/william/anaconda/lib/python3.6/site-packages/fuzzywuzzy/fuzz.py:11: UserWarning: Using slow pure-python SequenceMatcher. Install python-Levenshtein to remove this warning\n",
      "  warnings.warn('Using slow pure-python SequenceMatcher. Install python-Levenshtein to remove this warning')\n"
     ]
    },
    {
     "name": "stdout",
     "output_type": "stream",
     "text": [
      "Acumen Solutions, Inc. ('Acumen Solutions', 95, 1)\n",
      "Amplifi Commerce, LLC ('Amplifi ', 90, 2)\n",
      "Bahwan Cyber Tek, Inc. ('BAH', 90, 5)\n",
      "Codifyd, Inc. ('Codifyd', 90, 10)\n",
      "Eccella Corporation ('Eccella', 90, 14)\n",
      "First San Francisco Partners LLC ('First San Francisco Partners', 95, 17)\n",
      "GlobalSoft, Inc. ('GlobalSoft', 90, 18)\n",
      "HighPoint Solutions, LLC ('HighPoint Solutions', 95, 19)\n",
      "Ideosity, Inc. ('Ideosity', 90, 21)\n",
      "Infoverity LLC ('Infoverity', 95, 24)\n",
      "IntegrationWorx Ltd. ('Integrationworx', 95, 25)\n",
      "Knowledgent Group Inc. ('Knowledgent', 90, 27)\n",
      "Mastech InfoTrellis ('InfoTrellis', 90, 23)\n",
      "Perficient, Inc. ('Perficient', 90, 36)\n",
      "Sense Corp, Inc. ('Sense corp', 90, 39)\n",
      "Silverline, Inc. ('Silverline', 90, 40)\n",
      "Softpath System, LLC ('Softpath ', 90, 42)\n",
      "ZS Associates, Inc. ('ZS Associates', 95, 46)\n"
     ]
    }
   ],
   "source": [
    "#\n",
    "# This python code compares two lists using fuzzy matching and outputs the matches.\n",
    "#\n",
    "import pandas as pd\n",
    "from fuzzywuzzy import process \n",
    "# Need to install with pip; not part of anaconda today\n",
    "# pip install fuzzywuzzy\n",
    "# Does fuzzy string matching\n",
    " \n",
    "# Prepare data\n",
    "  \n",
    "# has column names so we don't skip any rows.\n",
    "data_x = pd.read_excel('./data/Account Names Data.xlsx', skiprows=0)\n",
    "#print (data_x.columns) #confirm column names; always check your data\n",
    "\n",
    "names_x = data_x['Account Name'] # get account names from column named 'Account Name'\n",
    "\n",
    "#print(names_x) #check; always look at the data\n",
    "xl = pd.ExcelFile('./data/Partner Data.xlsx', skiprows=0)\n",
    "data_y = xl.parse('List of Partners') # get the worksheet\n",
    "names_y = data_y['Partner'] # take a slice\n",
    "\n",
    " \n",
    "# dictionary not necessary unless we are bringing in ancillary reference data to tag to an account name\n",
    "recode = {} # create a dictionary; \n",
    "# Actual fuzzy matching using Levenshtein edit-distance\n",
    "for name in names_x:\n",
    "    best_match = process.extractOne(name, names_y) #here's where the fuzzy matching occurs\n",
    "    if best_match[1] > 89:  #check match score; iterate for correct parameter here; it could be 85. Data driven.\n",
    "        print(name, best_match)\n",
    "    recode[name] = best_match[0] # use the recode dictionary for further processing\n",
    "\n",
    "#output can be copied and pasted rather than written to a file.\n"
   ]
  },
  {
   "cell_type": "code",
   "execution_count": null,
   "metadata": {
    "collapsed": true
   },
   "outputs": [],
   "source": []
  },
  {
   "cell_type": "code",
   "execution_count": null,
   "metadata": {
    "collapsed": true
   },
   "outputs": [],
   "source": []
  }
 ],
 "metadata": {
  "kernelspec": {
   "display_name": "Python 3",
   "language": "python",
   "name": "python3"
  },
  "language_info": {
   "codemirror_mode": {
    "name": "ipython",
    "version": 3
   },
   "file_extension": ".py",
   "mimetype": "text/x-python",
   "name": "python",
   "nbconvert_exporter": "python",
   "pygments_lexer": "ipython3",
   "version": "3.6.1"
  }
 },
 "nbformat": 4,
 "nbformat_minor": 2
}
